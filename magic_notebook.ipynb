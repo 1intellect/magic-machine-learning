{
 "cells": [
  {
   "attachments": {},
   "cell_type": "markdown",
   "metadata": {},
   "source": [
    "# icc-MAGIC-Example"
   ]
  },
  {
   "cell_type": "code",
   "execution_count": 66,
   "metadata": {},
   "outputs": [],
   "source": [
    "import numpy as np\n",
    "import pandas as pd\n",
    "import matplotlib.pyplot as plt\n",
    "from sklearn.preprocessing import StandardScaler\n",
    "from imblearn.over_sampling import RandomOverSampler"
   ]
  },
  {
   "cell_type": "code",
   "execution_count": 67,
   "metadata": {},
   "outputs": [],
   "source": [
    "# column names\n",
    "cols = [\"flength\", \"fwidtth\", \"fSize\", \"fConc\", \"fConc1\", \"fAsym\",\"fM3long\",\n",
    "        \"fM3Trans\",\"fAlpha\", \"fdist\",\"class\"]"
   ]
  },
  {
   "cell_type": "code",
   "execution_count": 68,
   "metadata": {},
   "outputs": [],
   "source": [
    "#csv =   comma separate values \n",
    "df = pd.read_csv(\"magic04.data\", names=cols)\n",
    "\n",
    "#print the first five values\n",
    "# print(df.head())\n",
    "\n",
    "# prints all the rows where the class is labelled 0\n",
    "# print(df[df[\"class\"]==0])"
   ]
  },
  {
   "cell_type": "code",
   "execution_count": 69,
   "metadata": {},
   "outputs": [],
   "source": [
    "#To allow the computer to better interpret data we change g and h to 1's and 0s by casting as an int\n",
    "df[\"class\"] = (df[\"class\"] == \"g\").astype(int)"
   ]
  },
  {
   "cell_type": "code",
   "execution_count": 70,
   "metadata": {},
   "outputs": [],
   "source": [
    "# # for each of the data points in the last column (labelled class)\n",
    "# for label in cols[:-1]:\n",
    "    \n",
    "#     plt.figure()\n",
    "#     plt.hist(df[df[\"class\"]==1][label], color='blue', label='gamma', alpha=0.7,density=True)\n",
    "#     plt.hist(df[df[\"class\"]==0][label], color='red', label='hadron', alpha=0.7,density=True)\n",
    "#     plt.title(label)\n",
    "#     plt.ylabel(\"Probability\")\n",
    "#     plt.xlabel(label)\n",
    "#     plt.legend()\n",
    "   \n",
    "# plt.show()   "
   ]
  },
  {
   "cell_type": "code",
   "execution_count": 76,
   "metadata": {},
   "outputs": [],
   "source": [
    "#CREATE TRAIN VALIDATION AND TEST DATASETS\n",
    "#np.split split the data\n",
    "#df.sample shuffles 100% of the data (frac = 0.5 would be shuffling 50%)\n",
    "#split the data at 60% - 80% of the data set \n",
    "#split the data at 80% - 100% of the data set to be test data\n",
    "train, valid, test = np.split(df.sample(frac=1), [int(0.6*len(df)), int(0.8*len(df))])   "
   ]
  },
  {
   "cell_type": "code",
   "execution_count": 78,
   "metadata": {},
   "outputs": [],
   "source": [
    "# we can scale to have all the data with respect to a mean \n",
    "def scale_dataset(dataframe, oversample=False):\n",
    "    X = dataframe[dataframe.columns[:1]].values #get the values of the each of the columns \n",
    "    y = dataframe[dataframe.columns[-1]].values #get the values in the last column\n",
    "\n",
    "    scaler = StandardScaler()\n",
    "    X = scaler.fit_transform(X) #scales to unit variance \n",
    "\n",
    "    if oversample:\n",
    "        ros = RandomOverSampler()\n",
    "        X,y = ros.fit_resample(X,y)\n",
    "\n",
    "    data = np.hstack((X,np.reshape(y,(-1,1))))\n",
    "\n",
    "    return data, X, y"
   ]
  },
  {
   "cell_type": "code",
   "execution_count": 79,
   "metadata": {},
   "outputs": [
    {
     "name": "stdout",
     "output_type": "stream",
     "text": [
      "7385\n",
      "4027\n"
     ]
    }
   ],
   "source": [
    "#check the number of data we have for both handrons and gamma. We need to equalise these numbers \n",
    "print(len(train[train[\"class\"]==1])) \n",
    "print(len(train[train[\"class\"]==0])) "
   ]
  },
  {
   "cell_type": "code",
   "execution_count": 80,
   "metadata": {},
   "outputs": [],
   "source": [
    "train, X_train, Y_train = scale_dataset(train, oversample=True)\n",
    "valid, X_train, Y_train = scale_dataset(valid, oversample=False)\n",
    "test, X_train, Y_train = scale_dataset(test, oversample=False)\n"
   ]
  }
 ],
 "metadata": {
  "kernelspec": {
   "display_name": "py10",
   "language": "python",
   "name": "python3"
  },
  "language_info": {
   "codemirror_mode": {
    "name": "ipython",
    "version": 3
   },
   "file_extension": ".py",
   "mimetype": "text/x-python",
   "name": "python",
   "nbconvert_exporter": "python",
   "pygments_lexer": "ipython3",
   "version": "3.10.10"
  },
  "orig_nbformat": 4
 },
 "nbformat": 4,
 "nbformat_minor": 2
}
